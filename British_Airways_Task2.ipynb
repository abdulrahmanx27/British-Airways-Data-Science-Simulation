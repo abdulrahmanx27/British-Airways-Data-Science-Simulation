{
 "cells": [
  {
   "cell_type": "markdown",
   "metadata": {},
   "source": [
    "# Task 2\n",
    "\n",
    "---\n",
    "\n",
    "## Predictive modeling of customer bookings\n",
    "\n",
    "This Jupyter notebook includes some code to get you started with this predictive modeling task. We will use various packages for data manipulation, feature engineering and machine learning.\n",
    "\n",
    "### Exploratory data analysis\n",
    "\n",
    "First, we must explore the data in order to better understand what we have and the statistical properties of the dataset."
   ]
  },
  {
   "cell_type": "code",
   "execution_count": 13,
   "metadata": {},
   "outputs": [],
   "source": [
    "%matplotlib inline\n",
    "\n",
    "import pandas as pd\n",
    "import numpy as np\n",
    "import matplotlib.pyplot as plt\n",
    "import seaborn as sns\n",
    "\n",
    "import warnings\n",
    "warnings.filterwarnings(\"ignore\")"
   ]
  },
  {
   "cell_type": "code",
   "execution_count": 18,
   "metadata": {},
   "outputs": [],
   "source": [
    "data= '/customer_booking.csv'"
   ]
  },
  {
   "cell_type": "markdown",
   "metadata": {},
   "source": [
    "The `.head()` method allows us to view the first 5 rows in the dataset, this is useful for visual inspection of our columns"
   ]
  },
  {
   "cell_type": "code",
   "execution_count": 23,
   "metadata": {},
   "outputs": [
    {
     "name": "stdout",
     "output_type": "stream",
     "text": [
      "Requirement already satisfied: pandas in c:\\users\\lenovo\\anaconda3\\lib\\site-packages (2.0.3)\n",
      "Requirement already satisfied: chardet in c:\\users\\lenovo\\anaconda3\\lib\\site-packages (4.0.0)\n",
      "Requirement already satisfied: python-dateutil>=2.8.2 in c:\\users\\lenovo\\anaconda3\\lib\\site-packages (from pandas) (2.8.2)\n",
      "Requirement already satisfied: pytz>=2020.1 in c:\\users\\lenovo\\anaconda3\\lib\\site-packages (from pandas) (2023.3.post1)\n",
      "Requirement already satisfied: tzdata>=2022.1 in c:\\users\\lenovo\\anaconda3\\lib\\site-packages (from pandas) (2023.3)\n",
      "Requirement already satisfied: numpy>=1.21.0 in c:\\users\\lenovo\\anaconda3\\lib\\site-packages (from pandas) (1.24.3)\n",
      "Requirement already satisfied: six>=1.5 in c:\\users\\lenovo\\anaconda3\\lib\\site-packages (from python-dateutil>=2.8.2->pandas) (1.16.0)\n"
     ]
    }
   ],
   "source": [
    "!pip install pandas chardet"
   ]
  },
  {
   "cell_type": "code",
   "execution_count": 26,
   "metadata": {},
   "outputs": [
    {
     "name": "stdout",
     "output_type": "stream",
     "text": [
      "Current working directory: C:\\Users\\LENOVO\\Desktop\\Downloads\n",
      "Detected encoding: {'encoding': 'ISO-8859-1', 'confidence': 0.73, 'language': ''}\n"
     ]
    }
   ],
   "source": [
    "import os\n",
    "import chardet\n",
    "import pandas as pd\n",
    "\n",
    "# Check the current working directory\n",
    "print(\"Current working directory:\", os.getcwd())\n",
    "\n",
    "# Adjust the file path accordingly\n",
    "file_path = 'customer_booking.csv'  # Update with the correct path if necessary\n",
    "\n",
    "# Detect file encoding\n",
    "with open(file_path, 'rb') as rawdata:\n",
    "    result = chardet.detect(rawdata.read(100000))\n",
    "\n",
    "print(\"Detected encoding:\", result)"
   ]
  },
  {
   "cell_type": "code",
   "execution_count": 25,
   "metadata": {},
   "outputs": [
    {
     "name": "stdout",
     "output_type": "stream",
     "text": [
      "   num_passengers sales_channel  trip_type  purchase_lead  length_of_stay  \\\n",
      "0               2      Internet  RoundTrip            262              19   \n",
      "1               1      Internet  RoundTrip            112              20   \n",
      "2               2      Internet  RoundTrip            243              22   \n",
      "3               1      Internet  RoundTrip             96              31   \n",
      "4               2      Internet  RoundTrip             68              22   \n",
      "\n",
      "   flight_hour flight_day   route booking_origin  wants_extra_baggage  \\\n",
      "0            7        Sat  AKLDEL    New Zealand                    1   \n",
      "1            3        Sat  AKLDEL    New Zealand                    0   \n",
      "2           17        Wed  AKLDEL          India                    1   \n",
      "3            4        Sat  AKLDEL    New Zealand                    0   \n",
      "4           15        Wed  AKLDEL          India                    1   \n",
      "\n",
      "   wants_preferred_seat  wants_in_flight_meals  flight_duration  \\\n",
      "0                     0                      0             5.52   \n",
      "1                     0                      0             5.52   \n",
      "2                     1                      0             5.52   \n",
      "3                     0                      1             5.52   \n",
      "4                     0                      1             5.52   \n",
      "\n",
      "   booking_complete  \n",
      "0                 0  \n",
      "1                 0  \n",
      "2                 0  \n",
      "3                 0  \n",
      "4                 0  \n"
     ]
    }
   ],
   "source": [
    "# Read the CSV file with the detected encoding\n",
    "encoding = result['encoding']\n",
    "df = pd.read_csv(file_path, encoding=encoding)\n",
    "\n",
    "# Display the first few rows of the DataFrame\n",
    "print(df.head())"
   ]
  },
  {
   "cell_type": "markdown",
   "metadata": {},
   "source": [
    "The `.info()` method gives us a data description, telling us the names of the columns, their data types and how many null values we have. Fortunately, we have no null values. It looks like some of these columns should be converted into different data types, e.g. flight_day.\n",
    "\n",
    "To provide more context, below is a more detailed data description, explaining exactly what each column means:\n",
    "\n",
    "- `num_passengers` = number of passengers travelling\n",
    "- `sales_channel` = sales channel booking was made on\n",
    "- `trip_type` = trip Type (Round Trip, One Way, Circle Trip)\n",
    "- `purchase_lead` = number of days between travel date and booking date\n",
    "- `length_of_stay` = number of days spent at destination\n",
    "- `flight_hour` = hour of flight departure\n",
    "- `flight_day` = day of week of flight departure\n",
    "- `route` = origin -> destination flight route\n",
    "- `booking_origin` = country from where booking was made\n",
    "- `wants_extra_baggage` = if the customer wanted extra baggage in the booking\n",
    "- `wants_preferred_seat` = if the customer wanted a preferred seat in the booking\n",
    "- `wants_in_flight_meals` = if the customer wanted in-flight meals in the booking\n",
    "- `flight_duration` = total duration of flight (in hours)\n",
    "- `booking_complete` = flag indicating if the customer completed the booking\n",
    "\n",
    "Before we compute any statistics on the data, lets do any necessary data conversion"
   ]
  },
  {
   "cell_type": "code",
   "execution_count": 27,
   "metadata": {
    "scrolled": true
   },
   "outputs": [
    {
     "data": {
      "text/plain": [
       "num_passengers             int64\n",
       "sales_channel             object\n",
       "trip_type                 object\n",
       "purchase_lead              int64\n",
       "length_of_stay             int64\n",
       "flight_hour                int64\n",
       "flight_day                object\n",
       "route                     object\n",
       "booking_origin            object\n",
       "wants_extra_baggage        int64\n",
       "wants_preferred_seat       int64\n",
       "wants_in_flight_meals      int64\n",
       "flight_duration          float64\n",
       "booking_complete           int64\n",
       "dtype: object"
      ]
     },
     "execution_count": 27,
     "metadata": {},
     "output_type": "execute_result"
    }
   ],
   "source": [
    "#checking for datatypes\n",
    "df.dtypes"
   ]
  },
  {
   "cell_type": "code",
   "execution_count": 28,
   "metadata": {
    "scrolled": true
   },
   "outputs": [
    {
     "data": {
      "text/plain": [
       "(50000, 14)"
      ]
     },
     "execution_count": 28,
     "metadata": {},
     "output_type": "execute_result"
    }
   ],
   "source": [
    "df.shape"
   ]
  },
  {
   "cell_type": "code",
   "execution_count": null,
   "metadata": {},
   "outputs": [],
   "source": []
  },
  {
   "cell_type": "code",
   "execution_count": 4,
   "metadata": {},
   "outputs": [
    {
     "data": {
      "text/plain": [
       "array(['Sat', 'Wed', 'Thu', 'Mon', 'Sun', 'Tue', 'Fri'], dtype=object)"
      ]
     },
     "execution_count": 4,
     "metadata": {},
     "output_type": "execute_result"
    }
   ],
   "source": [
    "df[\"flight_day\"].unique()"
   ]
  },
  {
   "cell_type": "code",
   "execution_count": 5,
   "metadata": {},
   "outputs": [],
   "source": [
    "mapping = {\n",
    "    \"Mon\": 1,\n",
    "    \"Tue\": 2,\n",
    "    \"Wed\": 3,\n",
    "    \"Thu\": 4,\n",
    "    \"Fri\": 5,\n",
    "    \"Sat\": 6,\n",
    "    \"Sun\": 7,\n",
    "}\n",
    "\n",
    "df[\"flight_day\"] = df[\"flight_day\"].map(mapping)"
   ]
  },
  {
   "cell_type": "code",
   "execution_count": 6,
   "metadata": {},
   "outputs": [
    {
     "data": {
      "text/plain": [
       "array([6, 3, 4, 1, 7, 2, 5])"
      ]
     },
     "execution_count": 6,
     "metadata": {},
     "output_type": "execute_result"
    }
   ],
   "source": [
    "df[\"flight_day\"].unique()"
   ]
  },
  {
   "cell_type": "code",
   "execution_count": 7,
   "metadata": {},
   "outputs": [
    {
     "data": {
      "text/html": [
       "<div>\n",
       "<style scoped>\n",
       "    .dataframe tbody tr th:only-of-type {\n",
       "        vertical-align: middle;\n",
       "    }\n",
       "\n",
       "    .dataframe tbody tr th {\n",
       "        vertical-align: top;\n",
       "    }\n",
       "\n",
       "    .dataframe thead th {\n",
       "        text-align: right;\n",
       "    }\n",
       "</style>\n",
       "<table border=\"1\" class=\"dataframe\">\n",
       "  <thead>\n",
       "    <tr style=\"text-align: right;\">\n",
       "      <th></th>\n",
       "      <th>num_passengers</th>\n",
       "      <th>purchase_lead</th>\n",
       "      <th>length_of_stay</th>\n",
       "      <th>flight_hour</th>\n",
       "      <th>flight_day</th>\n",
       "      <th>wants_extra_baggage</th>\n",
       "      <th>wants_preferred_seat</th>\n",
       "      <th>wants_in_flight_meals</th>\n",
       "      <th>flight_duration</th>\n",
       "      <th>booking_complete</th>\n",
       "    </tr>\n",
       "  </thead>\n",
       "  <tbody>\n",
       "    <tr>\n",
       "      <th>count</th>\n",
       "      <td>50000.000000</td>\n",
       "      <td>50000.000000</td>\n",
       "      <td>50000.00000</td>\n",
       "      <td>50000.00000</td>\n",
       "      <td>50000.000000</td>\n",
       "      <td>50000.000000</td>\n",
       "      <td>50000.000000</td>\n",
       "      <td>50000.000000</td>\n",
       "      <td>50000.000000</td>\n",
       "      <td>50000.000000</td>\n",
       "    </tr>\n",
       "    <tr>\n",
       "      <th>mean</th>\n",
       "      <td>1.591240</td>\n",
       "      <td>84.940480</td>\n",
       "      <td>23.04456</td>\n",
       "      <td>9.06634</td>\n",
       "      <td>3.814420</td>\n",
       "      <td>0.668780</td>\n",
       "      <td>0.296960</td>\n",
       "      <td>0.427140</td>\n",
       "      <td>7.277561</td>\n",
       "      <td>0.149560</td>\n",
       "    </tr>\n",
       "    <tr>\n",
       "      <th>std</th>\n",
       "      <td>1.020165</td>\n",
       "      <td>90.451378</td>\n",
       "      <td>33.88767</td>\n",
       "      <td>5.41266</td>\n",
       "      <td>1.992792</td>\n",
       "      <td>0.470657</td>\n",
       "      <td>0.456923</td>\n",
       "      <td>0.494668</td>\n",
       "      <td>1.496863</td>\n",
       "      <td>0.356643</td>\n",
       "    </tr>\n",
       "    <tr>\n",
       "      <th>min</th>\n",
       "      <td>1.000000</td>\n",
       "      <td>0.000000</td>\n",
       "      <td>0.00000</td>\n",
       "      <td>0.00000</td>\n",
       "      <td>1.000000</td>\n",
       "      <td>0.000000</td>\n",
       "      <td>0.000000</td>\n",
       "      <td>0.000000</td>\n",
       "      <td>4.670000</td>\n",
       "      <td>0.000000</td>\n",
       "    </tr>\n",
       "    <tr>\n",
       "      <th>25%</th>\n",
       "      <td>1.000000</td>\n",
       "      <td>21.000000</td>\n",
       "      <td>5.00000</td>\n",
       "      <td>5.00000</td>\n",
       "      <td>2.000000</td>\n",
       "      <td>0.000000</td>\n",
       "      <td>0.000000</td>\n",
       "      <td>0.000000</td>\n",
       "      <td>5.620000</td>\n",
       "      <td>0.000000</td>\n",
       "    </tr>\n",
       "    <tr>\n",
       "      <th>50%</th>\n",
       "      <td>1.000000</td>\n",
       "      <td>51.000000</td>\n",
       "      <td>17.00000</td>\n",
       "      <td>9.00000</td>\n",
       "      <td>4.000000</td>\n",
       "      <td>1.000000</td>\n",
       "      <td>0.000000</td>\n",
       "      <td>0.000000</td>\n",
       "      <td>7.570000</td>\n",
       "      <td>0.000000</td>\n",
       "    </tr>\n",
       "    <tr>\n",
       "      <th>75%</th>\n",
       "      <td>2.000000</td>\n",
       "      <td>115.000000</td>\n",
       "      <td>28.00000</td>\n",
       "      <td>13.00000</td>\n",
       "      <td>5.000000</td>\n",
       "      <td>1.000000</td>\n",
       "      <td>1.000000</td>\n",
       "      <td>1.000000</td>\n",
       "      <td>8.830000</td>\n",
       "      <td>0.000000</td>\n",
       "    </tr>\n",
       "    <tr>\n",
       "      <th>max</th>\n",
       "      <td>9.000000</td>\n",
       "      <td>867.000000</td>\n",
       "      <td>778.00000</td>\n",
       "      <td>23.00000</td>\n",
       "      <td>7.000000</td>\n",
       "      <td>1.000000</td>\n",
       "      <td>1.000000</td>\n",
       "      <td>1.000000</td>\n",
       "      <td>9.500000</td>\n",
       "      <td>1.000000</td>\n",
       "    </tr>\n",
       "  </tbody>\n",
       "</table>\n",
       "</div>"
      ],
      "text/plain": [
       "       num_passengers  purchase_lead  length_of_stay  flight_hour  \\\n",
       "count    50000.000000   50000.000000     50000.00000  50000.00000   \n",
       "mean         1.591240      84.940480        23.04456      9.06634   \n",
       "std          1.020165      90.451378        33.88767      5.41266   \n",
       "min          1.000000       0.000000         0.00000      0.00000   \n",
       "25%          1.000000      21.000000         5.00000      5.00000   \n",
       "50%          1.000000      51.000000        17.00000      9.00000   \n",
       "75%          2.000000     115.000000        28.00000     13.00000   \n",
       "max          9.000000     867.000000       778.00000     23.00000   \n",
       "\n",
       "         flight_day  wants_extra_baggage  wants_preferred_seat  \\\n",
       "count  50000.000000         50000.000000          50000.000000   \n",
       "mean       3.814420             0.668780              0.296960   \n",
       "std        1.992792             0.470657              0.456923   \n",
       "min        1.000000             0.000000              0.000000   \n",
       "25%        2.000000             0.000000              0.000000   \n",
       "50%        4.000000             1.000000              0.000000   \n",
       "75%        5.000000             1.000000              1.000000   \n",
       "max        7.000000             1.000000              1.000000   \n",
       "\n",
       "       wants_in_flight_meals  flight_duration  booking_complete  \n",
       "count           50000.000000     50000.000000      50000.000000  \n",
       "mean                0.427140         7.277561          0.149560  \n",
       "std                 0.494668         1.496863          0.356643  \n",
       "min                 0.000000         4.670000          0.000000  \n",
       "25%                 0.000000         5.620000          0.000000  \n",
       "50%                 0.000000         7.570000          0.000000  \n",
       "75%                 1.000000         8.830000          0.000000  \n",
       "max                 1.000000         9.500000          1.000000  "
      ]
     },
     "execution_count": 7,
     "metadata": {},
     "output_type": "execute_result"
    }
   ],
   "source": [
    "df.describe()"
   ]
  },
  {
   "cell_type": "markdown",
   "metadata": {},
   "source": [
    "The `.describe()` method gives us a summary of descriptive statistics over the entire dataset (only works for numeric columns). This gives us a quick overview of a few things such as the mean, min, max and overall distribution of each column.\n",
    "\n",
    "From this point, you should continue exploring the dataset with some visualisations and other metrics that you think may be useful. Then, you should prepare your dataset for predictive modelling. Finally, you should train your machine learning model, evaluate it with performance metrics and output visualisations for the contributing variables. All of this analysis should be summarised in your single slide."
   ]
  },
  {
   "cell_type": "markdown",
   "metadata": {},
   "source": []
  },
  {
   "cell_type": "code",
   "execution_count": 30,
   "metadata": {},
   "outputs": [
    {
     "data": {
      "text/plain": [
       "num_passengers           0\n",
       "sales_channel            0\n",
       "trip_type                0\n",
       "purchase_lead            0\n",
       "length_of_stay           0\n",
       "flight_hour              0\n",
       "flight_day               0\n",
       "route                    0\n",
       "booking_origin           0\n",
       "wants_extra_baggage      0\n",
       "wants_preferred_seat     0\n",
       "wants_in_flight_meals    0\n",
       "flight_duration          0\n",
       "booking_complete         0\n",
       "dtype: int64"
      ]
     },
     "execution_count": 30,
     "metadata": {},
     "output_type": "execute_result"
    }
   ],
   "source": [
    "#null values\n",
    "\n",
    "df.isnull().sum()\n",
    "\n",
    "#there is no null values"
   ]
  },
  {
   "cell_type": "code",
   "execution_count": 31,
   "metadata": {},
   "outputs": [
    {
     "data": {
      "text/plain": [
       "booking_complete\n",
       "0    42522\n",
       "1     7478\n",
       "Name: count, dtype: int64"
      ]
     },
     "execution_count": 31,
     "metadata": {},
     "output_type": "execute_result"
    }
   ],
   "source": [
    "df.booking_complete.value_counts()"
   ]
  },
  {
   "cell_type": "markdown",
   "metadata": {},
   "source": [
    "Mutual Information"
   ]
  },
  {
   "cell_type": "code",
   "execution_count": 32,
   "metadata": {},
   "outputs": [],
   "source": [
    "X= df.drop('booking_complete',axis=1)\n",
    "y= df.booking_complete         \n",
    "\n",
    "#changing object dtype to int dtype\n",
    "for colname in X.select_dtypes(\"object\"):\n",
    "    X[colname], _ = X[colname].factorize()"
   ]
  },
  {
   "cell_type": "code",
   "execution_count": 35,
   "metadata": {},
   "outputs": [
    {
     "data": {
      "text/plain": [
       "num_passengers             int64\n",
       "sales_channel              int64\n",
       "trip_type                  int64\n",
       "purchase_lead              int64\n",
       "length_of_stay             int64\n",
       "flight_hour                int64\n",
       "flight_day                 int64\n",
       "route                      int64\n",
       "booking_origin             int64\n",
       "wants_extra_baggage        int64\n",
       "wants_preferred_seat       int64\n",
       "wants_in_flight_meals      int64\n",
       "flight_duration          float64\n",
       "dtype: object"
      ]
     },
     "execution_count": 35,
     "metadata": {},
     "output_type": "execute_result"
    }
   ],
   "source": [
    "X.dtypes"
   ]
  },
  {
   "cell_type": "code",
   "execution_count": 36,
   "metadata": {},
   "outputs": [
    {
     "data": {
      "text/plain": [
       "route                    0.051828\n",
       "booking_origin           0.047457\n",
       "flight_duration          0.015836\n",
       "wants_extra_baggage      0.012944\n",
       "length_of_stay           0.007999\n",
       "flight_day               0.003613\n",
       "wants_preferred_seat     0.002943\n",
       "num_passengers           0.002659\n",
       "wants_in_flight_meals    0.002463\n",
       "sales_channel            0.001355\n",
       "trip_type                0.000907\n",
       "purchase_lead            0.000753\n",
       "flight_hour              0.000512\n",
       "Name: MI Scores, dtype: float64"
      ]
     },
     "execution_count": 36,
     "metadata": {},
     "output_type": "execute_result"
    }
   ],
   "source": [
    "from sklearn.feature_selection import mutual_info_classif\n",
    "\n",
    "mi_scores = mutual_info_classif(X, y)\n",
    "mi_scores = pd.Series(mi_scores, name=\"MI Scores\", index=X.columns)\n",
    "mi_scores = mi_scores.sort_values(ascending=False)\n",
    "\n",
    "mi_scores # show a few features with their MI scores\n",
    "     "
   ]
  },
  {
   "cell_type": "code",
   "execution_count": 37,
   "metadata": {},
   "outputs": [
    {
     "data": {
      "image/png": "[encoded data removed]",
      "text/plain": [
       "<Figure size 800x500 with 1 Axes>"
      ]
     },
     "metadata": {},
     "output_type": "display_data"
    }
   ],
   "source": [
    "def plot_mi_scores(scores):\n",
    "    scores = scores.sort_values(ascending=True)\n",
    "    width = np.arange(len(scores))\n",
    "    ticks = list(scores.index)\n",
    "    plt.barh(width, scores)\n",
    "    plt.yticks(width, ticks)\n",
    "    plt.title(\"Mutual Information Scores\")\n",
    "\n",
    "\n",
    "plt.figure(dpi=100, figsize=(8, 5))\n",
    "plot_mi_scores(mi_scores)"
   ]
  },
  {
   "cell_type": "code",
   "execution_count": 41,
   "metadata": {},
   "outputs": [],
   "source": [
    "#test train split\n",
    "\n",
    "from sklearn.model_selection import train_test_split\n",
    "\n",
    "# dataset split\n",
    "# creating a function for dataset split\n",
    "def dataset(X,y):\n",
    "    train_full_X, val_X, train_full_y, val_y = train_test_split(X, y,test_size=0.2,random_state = 0)\n",
    "\n",
    "# Use the same function above for the validation set\n",
    "    train_X, test_X, train_y, test_y = train_test_split(train_full_X, train_full_y, test_size=0.25,random_state = 0)\n",
    "    return (train_X, val_X, train_y, val_y)\n",
    "     "
   ]
  },
  {
   "cell_type": "code",
   "execution_count": 42,
   "metadata": {},
   "outputs": [],
   "source": [
    "from sklearn.preprocessing import MinMaxScaler\n",
    "\n",
    "def scale(X):\n",
    "    scaler = MinMaxScaler()\n",
    "    scaler.fit(X)\n",
    "    return X"
   ]
  },
  {
   "cell_type": "markdown",
   "metadata": {},
   "source": [
    "# Model 1 : Random forest classifier with all features"
   ]
  },
  {
   "cell_type": "code",
   "execution_count": 44,
   "metadata": {},
   "outputs": [
    {
     "name": "stdout",
     "output_type": "stream",
     "text": [
      "ACCURACY:  84.76\n",
      "AUC score:  0.5479604084813514\n"
     ]
    }
   ],
   "source": [
    "from sklearn.metrics import roc_auc_score\n",
    "from sklearn.metrics import accuracy_score\n",
    "from sklearn.ensemble import RandomForestClassifier\n",
    "\n",
    "X= df.drop('booking_complete',axis=1)\n",
    "#one hot encoding\n",
    "X = pd.get_dummies(X)\n",
    "X= scale(X)\n",
    "y= df.booking_complete       \n",
    "\n",
    "X_train,X_val,y_train,y_val= dataset(X,y)\n",
    "\n",
    "forest_model= RandomForestClassifier(random_state=1)\n",
    "forest_model.fit(X_train, y_train)\n",
    "preds= forest_model.predict(X_val)\n",
    "\n",
    "print('ACCURACY: ',accuracy_score(y_val,preds)*100)\n",
    "print('AUC score: ',roc_auc_score(y_val,preds))"
   ]
  },
  {
   "cell_type": "markdown",
   "metadata": {},
   "source": [
    "#  Model 2 : XGB classifier with all features"
   ]
  },
  {
   "cell_type": "code",
   "execution_count": 50,
   "metadata": {},
   "outputs": [
    {
     "name": "stdout",
     "output_type": "stream",
     "text": [
      "Collecting xgboost\n",
      "  Obtaining dependency information for xgboost from https://files.pythonhosted.org/packages/24/ec/ad387100fa3cc2b9b81af0829b5ecfe75ec5bb19dd7c19d4fea06fb81802/xgboost-2.0.3-py3-none-win_amd64.whl.metadata\n",
      "  Downloading xgboost-2.0.3-py3-none-win_amd64.whl.metadata (2.0 kB)\n",
      "Requirement already satisfied: numpy in c:\\users\\lenovo\\anaconda3\\lib\\site-packages (from xgboost) (1.24.3)\n",
      "Requirement already satisfied: scipy in c:\\users\\lenovo\\anaconda3\\lib\\site-packages (from xgboost) (1.11.1)\n",
      "Downloading xgboost-2.0.3-py3-none-win_amd64.whl (99.8 MB)\n",
      "   ---------------------------------------- 0.0/99.8 MB ? eta -:--:--\n",
      "   ---------------------------------------- 0.0/99.8 MB 1.3 MB/s eta 0:01:18\n",
      "   ---------------------------------------- 0.1/99.8 MB 2.1 MB/s eta 0:00:48\n",
      "   ---------------------------------------- 0.5/99.8 MB 4.8 MB/s eta 0:00:21\n",
      "   ---------------------------------------- 1.0/99.8 MB 6.3 MB/s eta 0:00:16\n",
      "    --------------------------------------- 1.4/99.8 MB 7.0 MB/s eta 0:00:15\n",
      "    --------------------------------------- 1.7/99.8 MB 7.1 MB/s eta 0:00:14\n",
      "    --------------------------------------- 2.1/99.8 MB 7.0 MB/s eta 0:00:14\n",
      "    --------------------------------------- 2.4/99.8 MB 7.5 MB/s eta 0:00:14\n",
      "   - -------------------------------------- 3.0/99.8 MB 7.9 MB/s eta 0:00:13\n",
      "   - -------------------------------------- 3.5/99.8 MB 8.5 MB/s eta 0:00:12\n",
      "   - -------------------------------------- 4.0/99.8 MB 8.8 MB/s eta 0:00:11\n",
      "   - -------------------------------------- 4.7/99.8 MB 9.0 MB/s eta 0:00:11\n",
      "   -- ------------------------------------- 5.4/99.8 MB 9.6 MB/s eta 0:00:10\n",
      "   -- ------------------------------------- 6.3/99.8 MB 10.7 MB/s eta 0:00:09\n",
      "   -- ------------------------------------- 7.1/99.8 MB 10.8 MB/s eta 0:00:09\n",
      "   --- ------------------------------------ 7.8/99.8 MB 11.1 MB/s eta 0:00:09\n",
      "   --- ------------------------------------ 8.6/99.8 MB 11.5 MB/s eta 0:00:08\n",
      "   --- ------------------------------------ 9.4/99.8 MB 11.8 MB/s eta 0:00:08\n",
      "   ---- ----------------------------------- 10.2/99.8 MB 12.3 MB/s eta 0:00:08\n",
      "   ---- ----------------------------------- 10.7/99.8 MB 13.1 MB/s eta 0:00:07\n",
      "   ---- ----------------------------------- 11.4/99.8 MB 13.4 MB/s eta 0:00:07\n",
      "   ---- ----------------------------------- 12.0/99.8 MB 13.9 MB/s eta 0:00:07\n",
      "   ----- ---------------------------------- 12.6/99.8 MB 14.6 MB/s eta 0:00:06\n",
      "   ----- ---------------------------------- 13.3/99.8 MB 14.9 MB/s eta 0:00:06\n",
      "   ----- ---------------------------------- 13.9/99.8 MB 14.9 MB/s eta 0:00:06\n",
      "   ----- ---------------------------------- 14.5/99.8 MB 15.2 MB/s eta 0:00:06\n",
      "   ------ --------------------------------- 15.0/99.8 MB 14.9 MB/s eta 0:00:06\n",
      "   ------ --------------------------------- 15.6/99.8 MB 14.6 MB/s eta 0:00:06\n",
      "   ------ --------------------------------- 16.1/99.8 MB 14.2 MB/s eta 0:00:06\n",
      "   ------ --------------------------------- 16.6/99.8 MB 13.9 MB/s eta 0:00:06\n",
      "   ------ --------------------------------- 17.2/99.8 MB 13.9 MB/s eta 0:00:06\n",
      "   ------- -------------------------------- 17.5/99.8 MB 13.4 MB/s eta 0:00:07\n",
      "   ------- -------------------------------- 18.1/99.8 MB 13.1 MB/s eta 0:00:07\n",
      "   ------- -------------------------------- 18.2/99.8 MB 12.4 MB/s eta 0:00:07\n",
      "   ------- -------------------------------- 18.3/99.8 MB 11.9 MB/s eta 0:00:07\n",
      "   ------- -------------------------------- 18.7/99.8 MB 11.7 MB/s eta 0:00:07\n",
      "   ------- -------------------------------- 18.8/99.8 MB 11.3 MB/s eta 0:00:08\n",
      "   ------- -------------------------------- 19.1/99.8 MB 10.9 MB/s eta 0:00:08\n",
      "   ------- -------------------------------- 19.3/99.8 MB 10.6 MB/s eta 0:00:08\n",
      "   ------- -------------------------------- 19.5/99.8 MB 10.2 MB/s eta 0:00:08\n",
      "   ------- -------------------------------- 19.7/99.8 MB 9.9 MB/s eta 0:00:09\n",
      "   -------- ------------------------------- 20.0/99.8 MB 9.6 MB/s eta 0:00:09\n",
      "   -------- ------------------------------- 20.2/99.8 MB 9.2 MB/s eta 0:00:09\n",
      "   -------- ------------------------------- 20.4/99.8 MB 9.0 MB/s eta 0:00:09\n",
      "   -------- ------------------------------- 20.7/99.8 MB 8.8 MB/s eta 0:00:09\n",
      "   -------- ------------------------------- 20.9/99.8 MB 8.7 MB/s eta 0:00:10\n",
      "   -------- ------------------------------- 21.2/99.8 MB 8.6 MB/s eta 0:00:10\n",
      "   -------- ------------------------------- 21.3/99.8 MB 8.5 MB/s eta 0:00:10\n",
      "   -------- ------------------------------- 21.6/99.8 MB 8.0 MB/s eta 0:00:10\n",
      "   -------- ------------------------------- 21.8/99.8 MB 8.1 MB/s eta 0:00:10\n",
      "   -------- ------------------------------- 22.0/99.8 MB 7.8 MB/s eta 0:00:10\n",
      "   --------- ------------------------------ 22.5/99.8 MB 7.8 MB/s eta 0:00:10\n",
      "   --------- ------------------------------ 22.6/99.8 MB 7.5 MB/s eta 0:00:11\n",
      "   --------- ------------------------------ 22.7/99.8 MB 7.4 MB/s eta 0:00:11\n",
      "   --------- ------------------------------ 22.8/99.8 MB 7.4 MB/s eta 0:00:11\n",
      "   --------- ------------------------------ 23.2/99.8 MB 7.1 MB/s eta 0:00:11\n",
      "   --------- ------------------------------ 23.3/99.8 MB 7.0 MB/s eta 0:00:11\n",
      "   --------- ------------------------------ 23.4/99.8 MB 6.8 MB/s eta 0:00:12\n",
      "   --------- ------------------------------ 23.9/99.8 MB 6.7 MB/s eta 0:00:12\n",
      "   --------- ------------------------------ 24.0/99.8 MB 6.7 MB/s eta 0:00:12\n",
      "   --------- ------------------------------ 24.5/99.8 MB 6.4 MB/s eta 0:00:12\n",
      "   --------- ------------------------------ 24.5/99.8 MB 6.4 MB/s eta 0:00:12\n",
      "   ---------- ----------------------------- 25.0/99.8 MB 6.2 MB/s eta 0:00:12\n",
      "   ---------- ----------------------------- 25.0/99.8 MB 6.2 MB/s eta 0:00:12\n",
      "   ---------- ----------------------------- 25.4/99.8 MB 6.0 MB/s eta 0:00:13\n",
      "   ---------- ----------------------------- 25.6/99.8 MB 6.0 MB/s eta 0:00:13\n",
      "   ---------- ----------------------------- 25.7/99.8 MB 5.8 MB/s eta 0:00:13\n",
      "   ---------- ----------------------------- 25.8/99.8 MB 5.8 MB/s eta 0:00:13\n",
      "   ---------- ----------------------------- 26.2/99.8 MB 5.6 MB/s eta 0:00:14\n",
      "   ---------- ----------------------------- 26.2/99.8 MB 5.5 MB/s eta 0:00:14\n",
      "   ---------- ----------------------------- 26.2/99.8 MB 5.5 MB/s eta 0:00:14\n",
      "   ---------- ----------------------------- 26.4/99.8 MB 5.3 MB/s eta 0:00:14\n",
      "   ---------- ----------------------------- 26.5/99.8 MB 5.2 MB/s eta 0:00:14\n",
      "   ---------- ----------------------------- 26.9/99.8 MB 5.2 MB/s eta 0:00:15\n",
      "   ---------- ----------------------------- 27.1/99.8 MB 5.1 MB/s eta 0:00:15\n",
      "   ----------- ---------------------------- 27.6/99.8 MB 5.1 MB/s eta 0:00:15\n",
      "   ----------- ---------------------------- 28.1/99.8 MB 5.1 MB/s eta 0:00:15\n",
      "   ----------- ---------------------------- 28.7/99.8 MB 5.2 MB/s eta 0:00:14\n",
      "   ----------- ---------------------------- 28.9/99.8 MB 5.3 MB/s eta 0:00:14\n",
      "   ----------- ---------------------------- 29.5/99.8 MB 5.4 MB/s eta 0:00:13\n",
      "   ----------- ---------------------------- 29.7/99.8 MB 5.4 MB/s eta 0:00:13\n",
      "   ------------ --------------------------- 30.2/99.8 MB 5.6 MB/s eta 0:00:13\n",
      "   ------------ --------------------------- 30.8/99.8 MB 5.8 MB/s eta 0:00:12\n",
      "   ------------ --------------------------- 31.2/99.8 MB 5.9 MB/s eta 0:00:12\n",
      "   ------------ --------------------------- 31.5/99.8 MB 6.0 MB/s eta 0:00:12\n",
      "   ------------ --------------------------- 31.8/99.8 MB 6.0 MB/s eta 0:00:12\n",
      "   ------------ --------------------------- 32.0/99.8 MB 6.1 MB/s eta 0:00:12\n",
      "   ------------ --------------------------- 32.3/99.8 MB 6.0 MB/s eta 0:00:12\n",
      "   ------------- -------------------------- 32.8/99.8 MB 6.2 MB/s eta 0:00:11\n",
      "   ------------- -------------------------- 33.2/99.8 MB 6.4 MB/s eta 0:00:11\n",
      "   ------------- -------------------------- 33.6/99.8 MB 6.5 MB/s eta 0:00:11\n",
      "   ------------- -------------------------- 33.9/99.8 MB 6.5 MB/s eta 0:00:11\n",
      "   ------------- -------------------------- 34.4/99.8 MB 6.7 MB/s eta 0:00:10\n",
      "   ------------- -------------------------- 34.7/99.8 MB 6.7 MB/s eta 0:00:10\n",
      "   -------------- ------------------------- 35.0/99.8 MB 6.8 MB/s eta 0:00:10\n",
      "   -------------- ------------------------- 35.5/99.8 MB 7.0 MB/s eta 0:00:10\n",
      "   -------------- ------------------------- 35.9/99.8 MB 7.1 MB/s eta 0:00:09\n",
      "   -------------- ------------------------- 36.1/99.8 MB 7.4 MB/s eta 0:00:09\n",
      "   -------------- ------------------------- 36.6/99.8 MB 8.3 MB/s eta 0:00:08\n",
      "   -------------- ------------------------- 36.9/99.8 MB 8.2 MB/s eta 0:00:08\n",
      "   -------------- ------------------------- 37.1/99.8 MB 8.1 MB/s eta 0:00:08\n",
      "   --------------- ------------------------ 37.5/99.8 MB 8.4 MB/s eta 0:00:08\n",
      "   --------------- ------------------------ 38.0/99.8 MB 8.2 MB/s eta 0:00:08\n",
      "   --------------- ------------------------ 38.3/99.8 MB 8.3 MB/s eta 0:00:08\n",
      "   --------------- ------------------------ 38.6/99.8 MB 8.2 MB/s eta 0:00:08\n",
      "   --------------- ------------------------ 38.8/99.8 MB 7.9 MB/s eta 0:00:08\n",
      "   --------------- ------------------------ 39.1/99.8 MB 8.0 MB/s eta 0:00:08\n",
      "   --------------- ------------------------ 39.4/99.8 MB 7.9 MB/s eta 0:00:08\n",
      "   --------------- ------------------------ 39.5/99.8 MB 7.6 MB/s eta 0:00:08\n",
      "   --------------- ------------------------ 39.7/99.8 MB 7.4 MB/s eta 0:00:09\n",
      "   ---------------- ----------------------- 39.9/99.8 MB 7.4 MB/s eta 0:00:09\n",
      "   ---------------- ----------------------- 40.2/99.8 MB 7.3 MB/s eta 0:00:09\n",
      "   ---------------- ----------------------- 40.6/99.8 MB 7.1 MB/s eta 0:00:09\n",
      "   ---------------- ----------------------- 40.9/99.8 MB 7.0 MB/s eta 0:00:09\n",
      "   ---------------- ----------------------- 41.1/99.8 MB 7.0 MB/s eta 0:00:09\n",
      "   ---------------- ----------------------- 41.4/99.8 MB 6.9 MB/s eta 0:00:09\n",
      "   ---------------- ----------------------- 41.5/99.8 MB 6.7 MB/s eta 0:00:09\n",
      "   ---------------- ----------------------- 41.9/99.8 MB 6.9 MB/s eta 0:00:09\n",
      "   ---------------- ----------------------- 42.1/99.8 MB 6.7 MB/s eta 0:00:09\n",
      "   ----------------- ---------------------- 42.4/99.8 MB 6.9 MB/s eta 0:00:09\n",
      "   ----------------- ---------------------- 42.6/99.8 MB 6.7 MB/s eta 0:00:09\n",
      "   ----------------- ---------------------- 42.9/99.8 MB 6.6 MB/s eta 0:00:09\n",
      "   ----------------- ---------------------- 43.0/99.8 MB 6.5 MB/s eta 0:00:09\n",
      "   ----------------- ---------------------- 43.3/99.8 MB 6.4 MB/s eta 0:00:09\n",
      "   ----------------- ---------------------- 43.3/99.8 MB 6.4 MB/s eta 0:00:09\n",
      "   ----------------- ---------------------- 43.5/99.8 MB 6.2 MB/s eta 0:00:10\n",
      "   ----------------- ---------------------- 43.8/99.8 MB 6.1 MB/s eta 0:00:10\n",
      "   ----------------- ---------------------- 44.1/99.8 MB 6.1 MB/s eta 0:00:10\n",
      "   ----------------- ---------------------- 44.4/99.8 MB 6.1 MB/s eta 0:00:10\n",
      "   ----------------- ---------------------- 44.4/99.8 MB 5.9 MB/s eta 0:00:10\n",
      "   ----------------- ---------------------- 44.6/99.8 MB 5.8 MB/s eta 0:00:10\n",
      "   ----------------- ---------------------- 44.9/99.8 MB 5.7 MB/s eta 0:00:10\n",
      "   ------------------ --------------------- 45.2/99.8 MB 5.8 MB/s eta 0:00:10\n",
      "   ------------------ --------------------- 45.3/99.8 MB 5.8 MB/s eta 0:00:10\n",
      "   ------------------ --------------------- 45.8/99.8 MB 5.7 MB/s eta 0:00:10\n",
      "   ------------------ --------------------- 45.9/99.8 MB 5.7 MB/s eta 0:00:10\n",
      "   ------------------ --------------------- 45.9/99.8 MB 5.7 MB/s eta 0:00:10\n",
      "   ------------------ --------------------- 46.1/99.8 MB 5.4 MB/s eta 0:00:10\n",
      "   ------------------ --------------------- 46.4/99.8 MB 5.5 MB/s eta 0:00:10\n",
      "   ------------------ --------------------- 46.5/99.8 MB 5.4 MB/s eta 0:00:10\n",
      "   ------------------ --------------------- 46.6/99.8 MB 5.3 MB/s eta 0:00:11\n",
      "   ------------------ --------------------- 46.7/99.8 MB 5.2 MB/s eta 0:00:11\n",
      "   ------------------ --------------------- 47.0/99.8 MB 5.2 MB/s eta 0:00:11\n",
      "   ------------------ --------------------- 47.1/99.8 MB 5.2 MB/s eta 0:00:11\n",
      "   ------------------ --------------------- 47.1/99.8 MB 5.2 MB/s eta 0:00:11\n",
      "   ------------------ --------------------- 47.2/99.8 MB 4.9 MB/s eta 0:00:11\n",
      "   ------------------- -------------------- 47.5/99.8 MB 4.9 MB/s eta 0:00:11\n",
      "   ------------------- -------------------- 47.7/99.8 MB 4.8 MB/s eta 0:00:11\n",
      "   ------------------- -------------------- 48.0/99.8 MB 4.8 MB/s eta 0:00:11\n",
      "   ------------------- -------------------- 48.2/99.8 MB 4.8 MB/s eta 0:00:11\n",
      "   ------------------- -------------------- 48.2/99.8 MB 4.7 MB/s eta 0:00:11\n",
      "   ------------------- -------------------- 48.4/99.8 MB 4.6 MB/s eta 0:00:12\n",
      "   ------------------- -------------------- 48.5/99.8 MB 4.5 MB/s eta 0:00:12\n",
      "   ------------------- -------------------- 49.1/99.8 MB 4.6 MB/s eta 0:00:11\n",
      "   ------------------- -------------------- 49.5/99.8 MB 4.7 MB/s eta 0:00:11\n",
      "   -------------------- ------------------- 49.9/99.8 MB 4.8 MB/s eta 0:00:11\n",
      "   -------------------- ------------------- 50.4/99.8 MB 4.9 MB/s eta 0:00:11\n",
      "   -------------------- ------------------- 50.9/99.8 MB 5.0 MB/s eta 0:00:10\n",
      "   -------------------- ------------------- 51.6/99.8 MB 5.2 MB/s eta 0:00:10\n",
      "   -------------------- ------------------- 52.0/99.8 MB 5.2 MB/s eta 0:00:10\n",
      "   --------------------- ------------------ 52.7/99.8 MB 5.5 MB/s eta 0:00:09\n",
      "   --------------------- ------------------ 53.2/99.8 MB 5.7 MB/s eta 0:00:09\n",
      "   --------------------- ------------------ 53.9/99.8 MB 6.1 MB/s eta 0:00:08\n",
      "   --------------------- ------------------ 54.5/99.8 MB 6.4 MB/s eta 0:00:08\n",
      "   ---------------------- ----------------- 55.0/99.8 MB 6.8 MB/s eta 0:00:07\n",
      "   ---------------------- ----------------- 55.5/99.8 MB 6.9 MB/s eta 0:00:07\n",
      "   ---------------------- ----------------- 56.0/99.8 MB 7.0 MB/s eta 0:00:07\n",
      "   ---------------------- ----------------- 56.5/99.8 MB 7.6 MB/s eta 0:00:06\n",
      "   ---------------------- ----------------- 57.1/99.8 MB 8.4 MB/s eta 0:00:06\n",
      "   ----------------------- ---------------- 57.4/99.8 MB 9.2 MB/s eta 0:00:05\n",
      "   ----------------------- ---------------- 57.9/99.8 MB 9.8 MB/s eta 0:00:05\n",
      "   ----------------------- ---------------- 58.3/99.8 MB 10.1 MB/s eta 0:00:05\n",
      "   ----------------------- ---------------- 58.9/99.8 MB 11.3 MB/s eta 0:00:04\n",
      "   ----------------------- ---------------- 59.5/99.8 MB 11.7 MB/s eta 0:00:04\n",
      "   ------------------------ --------------- 60.1/99.8 MB 11.9 MB/s eta 0:00:04\n",
      "   ------------------------ --------------- 60.7/99.8 MB 11.9 MB/s eta 0:00:04\n",
      "   ------------------------ --------------- 61.5/99.8 MB 12.1 MB/s eta 0:00:04\n",
      "   ------------------------ --------------- 62.2/99.8 MB 12.4 MB/s eta 0:00:04\n",
      "   ------------------------- -------------- 62.9/99.8 MB 12.4 MB/s eta 0:00:03\n",
      "   ------------------------- -------------- 63.4/99.8 MB 12.4 MB/s eta 0:00:03\n",
      "   ------------------------- -------------- 63.8/99.8 MB 12.4 MB/s eta 0:00:03\n",
      "   ------------------------- -------------- 63.8/99.8 MB 11.9 MB/s eta 0:00:04\n",
      "   ------------------------- -------------- 64.2/99.8 MB 11.7 MB/s eta 0:00:04\n",
      "   ------------------------- -------------- 64.5/99.8 MB 11.3 MB/s eta 0:00:04\n",
      "   -------------------------- ------------- 65.2/99.8 MB 11.3 MB/s eta 0:00:04\n",
      "   -------------------------- ------------- 65.2/99.8 MB 11.3 MB/s eta 0:00:04\n",
      "   -------------------------- ------------- 65.5/99.8 MB 10.9 MB/s eta 0:00:04\n",
      "   -------------------------- ------------- 65.7/99.8 MB 10.7 MB/s eta 0:00:04\n",
      "   -------------------------- ------------- 66.1/99.8 MB 10.2 MB/s eta 0:00:04\n",
      "   -------------------------- ------------- 66.4/99.8 MB 10.1 MB/s eta 0:00:04\n",
      "   -------------------------- ------------- 66.6/99.8 MB 9.8 MB/s eta 0:00:04\n",
      "   -------------------------- ------------- 67.0/99.8 MB 9.8 MB/s eta 0:00:04\n",
      "   -------------------------- ------------- 67.3/99.8 MB 9.4 MB/s eta 0:00:04\n",
      "   --------------------------- ------------ 67.5/99.8 MB 9.4 MB/s eta 0:00:04\n",
      "   --------------------------- ------------ 67.7/99.8 MB 8.8 MB/s eta 0:00:04\n",
      "   --------------------------- ------------ 68.0/99.8 MB 8.8 MB/s eta 0:00:04\n",
      "   --------------------------- ------------ 68.1/99.8 MB 8.4 MB/s eta 0:00:04\n",
      "   --------------------------- ------------ 68.5/99.8 MB 8.5 MB/s eta 0:00:04\n",
      "   --------------------------- ------------ 68.8/99.8 MB 8.4 MB/s eta 0:00:04\n",
      "   --------------------------- ------------ 68.8/99.8 MB 8.4 MB/s eta 0:00:04\n",
      "   --------------------------- ------------ 69.0/99.8 MB 7.8 MB/s eta 0:00:04\n",
      "   --------------------------- ------------ 69.3/99.8 MB 7.7 MB/s eta 0:00:04\n",
      "   --------------------------- ------------ 69.3/99.8 MB 7.7 MB/s eta 0:00:04\n",
      "   --------------------------- ------------ 69.3/99.8 MB 7.3 MB/s eta 0:00:05\n",
      "   --------------------------- ------------ 69.4/99.8 MB 7.0 MB/s eta 0:00:05\n",
      "   --------------------------- ------------ 69.7/99.8 MB 7.0 MB/s eta 0:00:05\n",
      "   --------------------------- ------------ 69.7/99.8 MB 6.8 MB/s eta 0:00:05\n",
      "   ---------------------------- ----------- 69.9/99.8 MB 6.7 MB/s eta 0:00:05\n",
      "   ---------------------------- ----------- 70.2/99.8 MB 6.5 MB/s eta 0:00:05\n",
      "   ---------------------------- ----------- 70.4/99.8 MB 6.4 MB/s eta 0:00:05\n",
      "   ---------------------------- ----------- 70.7/99.8 MB 6.4 MB/s eta 0:00:05\n",
      "   ---------------------------- ----------- 71.1/99.8 MB 6.3 MB/s eta 0:00:05\n",
      "   ---------------------------- ----------- 71.4/99.8 MB 6.2 MB/s eta 0:00:05\n",
      "   ---------------------------- ----------- 71.9/99.8 MB 6.1 MB/s eta 0:00:05\n",
      "   ----------------------------- ---------- 72.6/99.8 MB 6.1 MB/s eta 0:00:05\n",
      "   ----------------------------- ---------- 73.1/99.8 MB 6.0 MB/s eta 0:00:05\n",
      "   ----------------------------- ---------- 73.7/99.8 MB 6.1 MB/s eta 0:00:05\n",
      "   ----------------------------- ---------- 74.3/99.8 MB 6.2 MB/s eta 0:00:05\n",
      "   ------------------------------ --------- 74.8/99.8 MB 6.3 MB/s eta 0:00:04\n",
      "   ------------------------------ --------- 75.6/99.8 MB 6.5 MB/s eta 0:00:04\n",
      "   ------------------------------ --------- 76.2/99.8 MB 6.7 MB/s eta 0:00:04\n",
      "   ------------------------------ --------- 76.8/99.8 MB 7.0 MB/s eta 0:00:04\n",
      "   ------------------------------- -------- 77.5/99.8 MB 7.3 MB/s eta 0:00:04\n",
      "   ------------------------------- -------- 78.2/99.8 MB 7.7 MB/s eta 0:00:03\n",
      "   ------------------------------- -------- 78.7/99.8 MB 8.0 MB/s eta 0:00:03\n",
      "   ------------------------------- -------- 79.0/99.8 MB 8.0 MB/s eta 0:00:03\n",
      "   ------------------------------- -------- 79.5/99.8 MB 8.5 MB/s eta 0:00:03\n",
      "   -------------------------------- ------- 80.1/99.8 MB 10.4 MB/s eta 0:00:02\n",
      "   -------------------------------- ------- 80.8/99.8 MB 11.5 MB/s eta 0:00:02\n",
      "   -------------------------------- ------- 81.5/99.8 MB 11.5 MB/s eta 0:00:02\n",
      "   -------------------------------- ------- 82.1/99.8 MB 11.9 MB/s eta 0:00:02\n",
      "   --------------------------------- ------ 82.8/99.8 MB 12.1 MB/s eta 0:00:02\n",
      "   --------------------------------- ------ 83.4/99.8 MB 12.4 MB/s eta 0:00:02\n",
      "   --------------------------------- ------ 84.2/99.8 MB 12.6 MB/s eta 0:00:02\n",
      "   --------------------------------- ------ 84.7/99.8 MB 13.1 MB/s eta 0:00:02\n",
      "   ---------------------------------- ----- 85.4/99.8 MB 13.1 MB/s eta 0:00:02\n",
      "   ---------------------------------- ----- 86.0/99.8 MB 12.8 MB/s eta 0:00:02\n",
      "   ---------------------------------- ----- 86.4/99.8 MB 12.8 MB/s eta 0:00:02\n",
      "   ---------------------------------- ----- 87.0/99.8 MB 12.8 MB/s eta 0:00:01\n",
      "   ----------------------------------- ---- 87.6/99.8 MB 12.6 MB/s eta 0:00:01\n",
      "   ----------------------------------- ---- 88.2/99.8 MB 12.8 MB/s eta 0:00:01\n",
      "   ----------------------------------- ---- 88.8/99.8 MB 12.8 MB/s eta 0:00:01\n",
      "   ----------------------------------- ---- 89.3/99.8 MB 13.6 MB/s eta 0:00:01\n",
      "   ------------------------------------ --- 89.8/99.8 MB 13.4 MB/s eta 0:00:01\n",
      "   ------------------------------------ --- 90.4/99.8 MB 13.4 MB/s eta 0:00:01\n",
      "   ------------------------------------ --- 91.0/99.8 MB 13.6 MB/s eta 0:00:01\n",
      "   ------------------------------------ --- 91.2/99.8 MB 13.1 MB/s eta 0:00:01\n",
      "   ------------------------------------ --- 91.7/99.8 MB 12.8 MB/s eta 0:00:01\n",
      "   ------------------------------------ --- 92.1/99.8 MB 13.1 MB/s eta 0:00:01\n",
      "   ------------------------------------- -- 92.3/99.8 MB 12.4 MB/s eta 0:00:01\n",
      "   ------------------------------------- -- 92.6/99.8 MB 12.1 MB/s eta 0:00:01\n",
      "   ------------------------------------- -- 92.6/99.8 MB 12.1 MB/s eta 0:00:01\n",
      "   ------------------------------------- -- 92.6/99.8 MB 12.1 MB/s eta 0:00:01\n",
      "   ------------------------------------- -- 92.9/99.8 MB 10.7 MB/s eta 0:00:01\n",
      "   ------------------------------------- -- 93.1/99.8 MB 10.6 MB/s eta 0:00:01\n",
      "   ------------------------------------- -- 93.3/99.8 MB 9.9 MB/s eta 0:00:01\n",
      "   ------------------------------------- -- 93.4/99.8 MB 9.6 MB/s eta 0:00:01\n",
      "   ------------------------------------- -- 93.4/99.8 MB 9.6 MB/s eta 0:00:01\n",
      "   ------------------------------------- -- 93.6/99.8 MB 8.8 MB/s eta 0:00:01\n",
      "   ------------------------------------- -- 93.7/99.8 MB 8.7 MB/s eta 0:00:01\n",
      "   ------------------------------------- -- 94.1/99.8 MB 8.5 MB/s eta 0:00:01\n",
      "   ------------------------------------- -- 94.3/99.8 MB 8.3 MB/s eta 0:00:01\n",
      "   ------------------------------------- -- 94.4/99.8 MB 8.2 MB/s eta 0:00:01\n",
      "   ------------------------------------- -- 94.5/99.8 MB 7.7 MB/s eta 0:00:01\n",
      "   ------------------------------------- -- 94.6/99.8 MB 7.5 MB/s eta 0:00:01\n",
      "   ------------------------------------- -- 94.6/99.8 MB 7.5 MB/s eta 0:00:01\n",
      "   -------------------------------------- - 94.8/99.8 MB 7.0 MB/s eta 0:00:01\n",
      "   -------------------------------------- - 95.0/99.8 MB 6.9 MB/s eta 0:00:01\n",
      "   -------------------------------------- - 95.2/99.8 MB 6.8 MB/s eta 0:00:01\n",
      "   -------------------------------------- - 95.2/99.8 MB 6.7 MB/s eta 0:00:01\n",
      "   -------------------------------------- - 95.2/99.8 MB 6.7 MB/s eta 0:00:01\n",
      "   -------------------------------------- - 95.4/99.8 MB 6.3 MB/s eta 0:00:01\n",
      "   -------------------------------------- - 95.4/99.8 MB 6.3 MB/s eta 0:00:01\n",
      "   -------------------------------------- - 95.7/99.8 MB 6.0 MB/s eta 0:00:01\n",
      "   -------------------------------------- - 95.8/99.8 MB 6.0 MB/s eta 0:00:01\n",
      "   -------------------------------------- - 95.9/99.8 MB 5.8 MB/s eta 0:00:01\n",
      "   -------------------------------------- - 95.9/99.8 MB 5.7 MB/s eta 0:00:01\n",
      "   -------------------------------------- - 96.1/99.8 MB 5.6 MB/s eta 0:00:01\n",
      "   -------------------------------------- - 96.2/99.8 MB 5.5 MB/s eta 0:00:01\n",
      "   -------------------------------------- - 96.3/99.8 MB 5.3 MB/s eta 0:00:01\n",
      "   -------------------------------------- - 96.4/99.8 MB 5.2 MB/s eta 0:00:01\n",
      "   -------------------------------------- - 96.4/99.8 MB 5.2 MB/s eta 0:00:01\n",
      "   -------------------------------------- - 96.6/99.8 MB 5.0 MB/s eta 0:00:01\n",
      "   -------------------------------------- - 96.6/99.8 MB 5.0 MB/s eta 0:00:01\n",
      "   -------------------------------------- - 96.7/99.8 MB 4.9 MB/s eta 0:00:01\n",
      "   -------------------------------------- - 96.7/99.8 MB 4.7 MB/s eta 0:00:01\n",
      "   -------------------------------------- - 96.9/99.8 MB 4.6 MB/s eta 0:00:01\n",
      "   -------------------------------------- - 97.0/99.8 MB 4.6 MB/s eta 0:00:01\n",
      "   -------------------------------------- - 97.2/99.8 MB 4.5 MB/s eta 0:00:01\n",
      "   ---------------------------------------  97.4/99.8 MB 4.5 MB/s eta 0:00:01\n",
      "   ---------------------------------------  97.5/99.8 MB 4.4 MB/s eta 0:00:01\n",
      "   ---------------------------------------  97.8/99.8 MB 4.3 MB/s eta 0:00:01\n",
      "   ---------------------------------------  98.0/99.8 MB 4.3 MB/s eta 0:00:01\n",
      "   ---------------------------------------  98.3/99.8 MB 4.2 MB/s eta 0:00:01\n",
      "   ---------------------------------------  98.6/99.8 MB 4.2 MB/s eta 0:00:01\n",
      "   ---------------------------------------  98.8/99.8 MB 4.1 MB/s eta 0:00:01\n",
      "   ---------------------------------------  99.0/99.8 MB 4.1 MB/s eta 0:00:01\n",
      "   ---------------------------------------  99.3/99.8 MB 4.0 MB/s eta 0:00:01\n",
      "   ---------------------------------------  99.5/99.8 MB 4.0 MB/s eta 0:00:01\n",
      "   ---------------------------------------  99.7/99.8 MB 3.9 MB/s eta 0:00:01\n",
      "   ---------------------------------------  99.7/99.8 MB 3.9 MB/s eta 0:00:01\n",
      "   ---------------------------------------  99.7/99.8 MB 3.9 MB/s eta 0:00:01\n",
      "   ---------------------------------------  99.7/99.8 MB 3.9 MB/s eta 0:00:01\n",
      "   ---------------------------------------  99.7/99.8 MB 3.9 MB/s eta 0:00:01\n",
      "   ---------------------------------------  99.7/99.8 MB 3.9 MB/s eta 0:00:01\n",
      "   ---------------------------------------  99.7/99.8 MB 3.9 MB/s eta 0:00:01\n",
      "   ---------------------------------------  99.7/99.8 MB 3.9 MB/s eta 0:00:01\n",
      "   ---------------------------------------  99.7/99.8 MB 3.9 MB/s eta 0:00:01\n",
      "   ---------------------------------------  99.7/99.8 MB 3.9 MB/s eta 0:00:01\n",
      "   ---------------------------------------  99.7/99.8 MB 3.9 MB/s eta 0:00:01\n",
      "   ---------------------------------------  99.7/99.8 MB 3.9 MB/s eta 0:00:01\n",
      "   ---------------------------------------  99.7/99.8 MB 3.9 MB/s eta 0:00:01\n",
      "   ---------------------------------------  99.7/99.8 MB 3.9 MB/s eta 0:00:01\n",
      "   ---------------------------------------  99.7/99.8 MB 3.9 MB/s eta 0:00:01\n",
      "   ---------------------------------------  99.7/99.8 MB 3.9 MB/s eta 0:00:01\n",
      "   ---------------------------------------  99.7/99.8 MB 3.9 MB/s eta 0:00:01\n",
      "   ---------------------------------------- 99.8/99.8 MB 3.0 MB/s eta 0:00:00\n",
      "Installing collected packages: xgboost\n",
      "Successfully installed xgboost-2.0.3\n"
     ]
    },
    {
     "name": "stdout",
     "output_type": "stream",
     "text": [
      "ACCURACY:  85.45\n",
      "AUC score:  0.5413859281817028\n"
     ]
    }
   ],
   "source": [
    "!pip install xgboost"
   ]
  },
  {
   "cell_type": "code",
   "execution_count": 51,
   "metadata": {},
   "outputs": [
    {
     "name": "stdout",
     "output_type": "stream",
     "text": [
      "ACCURACY:  84.98\n",
      "AUC score:  0.5424676175552812\n"
     ]
    }
   ],
   "source": [
    "from xgboost import XGBClassifier\n",
    "\n",
    "\n",
    "X= df.drop('booking_complete',axis=1)\n",
    "#one hot encoding\n",
    "X = pd.get_dummies(X)\n",
    "X= scale(X)\n",
    "y= df.booking_complete \n",
    "\n",
    "X_train,X_val,y_train,y_val= dataset(X,y)\n",
    "\n",
    "\n",
    "xgb_model = XGBClassifier()\n",
    "xgb_model.fit(X_train, y_train)\n",
    "prediction_xgb = xgb_model.predict(X_val)\n",
    "print('ACCURACY: ',accuracy_score(y_val, prediction_xgb)*100)\n",
    "print('AUC score: ',roc_auc_score(y_val,prediction_xgb))"
   ]
  }
 ],
 "metadata": {
  "kernelspec": {
   "display_name": "Python 3 (ipykernel)",
   "language": "python",
   "name": "python3"
  },
  "language_info": {
   "codemirror_mode": {
    "name": "ipython",
    "version": 3
   },
   "file_extension": ".py",
   "mimetype": "text/x-python",
   "name": "python",
   "nbconvert_exporter": "python",
   "pygments_lexer": "ipython3",
   "version": "3.11.5"
  },
  "vscode": {
   "interpreter": {
    "hash": "4f7924c4c56b083e0e50eadfe7ef592a7a8ef70df33a0047f82280e6be1afe15"
   }
  }
 },
 "nbformat": 4,
 "nbformat_minor": 2
}
